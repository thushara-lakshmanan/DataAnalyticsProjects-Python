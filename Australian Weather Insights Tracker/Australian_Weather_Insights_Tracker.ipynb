{
 "cells": [
  {
   "cell_type": "markdown",
   "metadata": {},
   "source": [
    "### Australian Weather Insights Tracker"
   ]
  },
  {
   "cell_type": "markdown",
   "metadata": {},
   "source": [
    "##### About Data\n",
    "\n",
    "This dataset contains weather information from many of the weather stations around Australia. For most weather stations,there are about 365 observations for the years 2007 to 2017.The .csv file used for this analysis is downloaded from [kaggle](https://www.kaggle.com/jsphyg/weather-dataset-rattle-package?select=weatherAUS.csv) website.\n",
    "\n",
    "The data contains over 142k rows and 24 columns.The variable RainTomorrow means -did it rain the next day?.More detailed information of dataset can be found in the Australian Bureau of Meterology website.\n"
   ]
  },
  {
   "cell_type": "markdown",
   "metadata": {},
   "source": [
    "##### Table of contents\n",
    "1. Load Data\n",
    "2. Inspect Data\n",
    "3. Clean & Prepare Data\n",
    "4. Exploratory Data Analysis\n",
    "5. Summary\n",
    "6. Future Work"
   ]
  },
  {
   "cell_type": "markdown",
   "metadata": {},
   "source": [
    "##### 1. Load Data"
   ]
  },
  {
   "cell_type": "code",
   "execution_count": null,
   "metadata": {},
   "outputs": [],
   "source": [
    "#Load Libraries\n",
    "import pandas as pd\n",
    "import numpy as np\n",
    "pd.set_option('display.max_columns', None)\n",
    "df = pd.read_csv(\"weatherAUS.csv\", parse_dates=['Date'])\n",
    "df.head()"
   ]
  },
  {
   "cell_type": "markdown",
   "metadata": {},
   "source": [
    "##### 2. Inpect Data"
   ]
  },
  {
   "cell_type": "code",
   "execution_count": null,
   "metadata": {},
   "outputs": [],
   "source": [
    "df.shape"
   ]
  },
  {
   "cell_type": "code",
   "execution_count": 39,
   "metadata": {},
   "outputs": [
    {
     "data": {
      "text/html": [
       "<div>\n",
       "<style scoped>\n",
       "    .dataframe tbody tr th:only-of-type {\n",
       "        vertical-align: middle;\n",
       "    }\n",
       "\n",
       "    .dataframe tbody tr th {\n",
       "        vertical-align: top;\n",
       "    }\n",
       "\n",
       "    .dataframe thead th {\n",
       "        text-align: right;\n",
       "    }\n",
       "</style>\n",
       "<table border=\"1\" class=\"dataframe\">\n",
       "  <thead>\n",
       "    <tr style=\"text-align: right;\">\n",
       "      <th></th>\n",
       "      <th>count</th>\n",
       "      <th>mean</th>\n",
       "      <th>std</th>\n",
       "      <th>min</th>\n",
       "      <th>25%</th>\n",
       "      <th>50%</th>\n",
       "      <th>75%</th>\n",
       "      <th>max</th>\n",
       "    </tr>\n",
       "  </thead>\n",
       "  <tbody>\n",
       "    <tr>\n",
       "      <th>MinTemp</th>\n",
       "      <td>141556.0</td>\n",
       "      <td>12.186400</td>\n",
       "      <td>6.403283</td>\n",
       "      <td>-8.5</td>\n",
       "      <td>7.6</td>\n",
       "      <td>12.0</td>\n",
       "      <td>16.8</td>\n",
       "      <td>33.9</td>\n",
       "    </tr>\n",
       "    <tr>\n",
       "      <th>MaxTemp</th>\n",
       "      <td>141871.0</td>\n",
       "      <td>23.226784</td>\n",
       "      <td>7.117618</td>\n",
       "      <td>-4.8</td>\n",
       "      <td>17.9</td>\n",
       "      <td>22.6</td>\n",
       "      <td>28.2</td>\n",
       "      <td>48.1</td>\n",
       "    </tr>\n",
       "    <tr>\n",
       "      <th>Rainfall</th>\n",
       "      <td>140787.0</td>\n",
       "      <td>2.349974</td>\n",
       "      <td>8.465173</td>\n",
       "      <td>0.0</td>\n",
       "      <td>0.0</td>\n",
       "      <td>0.0</td>\n",
       "      <td>0.8</td>\n",
       "      <td>371.0</td>\n",
       "    </tr>\n",
       "    <tr>\n",
       "      <th>Evaporation</th>\n",
       "      <td>81350.0</td>\n",
       "      <td>5.469824</td>\n",
       "      <td>4.188537</td>\n",
       "      <td>0.0</td>\n",
       "      <td>2.6</td>\n",
       "      <td>4.8</td>\n",
       "      <td>7.4</td>\n",
       "      <td>145.0</td>\n",
       "    </tr>\n",
       "    <tr>\n",
       "      <th>Sunshine</th>\n",
       "      <td>74377.0</td>\n",
       "      <td>7.624853</td>\n",
       "      <td>3.781525</td>\n",
       "      <td>0.0</td>\n",
       "      <td>4.9</td>\n",
       "      <td>8.5</td>\n",
       "      <td>10.6</td>\n",
       "      <td>14.5</td>\n",
       "    </tr>\n",
       "    <tr>\n",
       "      <th>WindGustSpeed</th>\n",
       "      <td>132923.0</td>\n",
       "      <td>39.984292</td>\n",
       "      <td>13.588801</td>\n",
       "      <td>6.0</td>\n",
       "      <td>31.0</td>\n",
       "      <td>39.0</td>\n",
       "      <td>48.0</td>\n",
       "      <td>135.0</td>\n",
       "    </tr>\n",
       "    <tr>\n",
       "      <th>WindSpeed9am</th>\n",
       "      <td>140845.0</td>\n",
       "      <td>14.001988</td>\n",
       "      <td>8.893337</td>\n",
       "      <td>0.0</td>\n",
       "      <td>7.0</td>\n",
       "      <td>13.0</td>\n",
       "      <td>19.0</td>\n",
       "      <td>130.0</td>\n",
       "    </tr>\n",
       "    <tr>\n",
       "      <th>WindSpeed3pm</th>\n",
       "      <td>139563.0</td>\n",
       "      <td>18.637576</td>\n",
       "      <td>8.803345</td>\n",
       "      <td>0.0</td>\n",
       "      <td>13.0</td>\n",
       "      <td>19.0</td>\n",
       "      <td>24.0</td>\n",
       "      <td>87.0</td>\n",
       "    </tr>\n",
       "    <tr>\n",
       "      <th>Humidity9am</th>\n",
       "      <td>140419.0</td>\n",
       "      <td>68.843810</td>\n",
       "      <td>19.051293</td>\n",
       "      <td>0.0</td>\n",
       "      <td>57.0</td>\n",
       "      <td>70.0</td>\n",
       "      <td>83.0</td>\n",
       "      <td>100.0</td>\n",
       "    </tr>\n",
       "    <tr>\n",
       "      <th>Humidity3pm</th>\n",
       "      <td>138583.0</td>\n",
       "      <td>51.482606</td>\n",
       "      <td>20.797772</td>\n",
       "      <td>0.0</td>\n",
       "      <td>37.0</td>\n",
       "      <td>52.0</td>\n",
       "      <td>66.0</td>\n",
       "      <td>100.0</td>\n",
       "    </tr>\n",
       "    <tr>\n",
       "      <th>Pressure9am</th>\n",
       "      <td>128179.0</td>\n",
       "      <td>1017.653758</td>\n",
       "      <td>7.105476</td>\n",
       "      <td>980.5</td>\n",
       "      <td>1012.9</td>\n",
       "      <td>1017.6</td>\n",
       "      <td>1022.4</td>\n",
       "      <td>1041.0</td>\n",
       "    </tr>\n",
       "    <tr>\n",
       "      <th>Pressure3pm</th>\n",
       "      <td>128212.0</td>\n",
       "      <td>1015.258204</td>\n",
       "      <td>7.036677</td>\n",
       "      <td>977.1</td>\n",
       "      <td>1010.4</td>\n",
       "      <td>1015.2</td>\n",
       "      <td>1020.0</td>\n",
       "      <td>1039.6</td>\n",
       "    </tr>\n",
       "    <tr>\n",
       "      <th>Cloud9am</th>\n",
       "      <td>88536.0</td>\n",
       "      <td>4.437189</td>\n",
       "      <td>2.887016</td>\n",
       "      <td>0.0</td>\n",
       "      <td>1.0</td>\n",
       "      <td>5.0</td>\n",
       "      <td>7.0</td>\n",
       "      <td>9.0</td>\n",
       "    </tr>\n",
       "    <tr>\n",
       "      <th>Cloud3pm</th>\n",
       "      <td>85099.0</td>\n",
       "      <td>4.503167</td>\n",
       "      <td>2.720633</td>\n",
       "      <td>0.0</td>\n",
       "      <td>2.0</td>\n",
       "      <td>5.0</td>\n",
       "      <td>7.0</td>\n",
       "      <td>9.0</td>\n",
       "    </tr>\n",
       "    <tr>\n",
       "      <th>Temp9am</th>\n",
       "      <td>141289.0</td>\n",
       "      <td>16.987509</td>\n",
       "      <td>6.492838</td>\n",
       "      <td>-7.2</td>\n",
       "      <td>12.3</td>\n",
       "      <td>16.7</td>\n",
       "      <td>21.6</td>\n",
       "      <td>40.2</td>\n",
       "    </tr>\n",
       "    <tr>\n",
       "      <th>Temp3pm</th>\n",
       "      <td>139467.0</td>\n",
       "      <td>21.687235</td>\n",
       "      <td>6.937594</td>\n",
       "      <td>-5.4</td>\n",
       "      <td>16.6</td>\n",
       "      <td>21.1</td>\n",
       "      <td>26.4</td>\n",
       "      <td>46.7</td>\n",
       "    </tr>\n",
       "    <tr>\n",
       "      <th>RISK_MM</th>\n",
       "      <td>142193.0</td>\n",
       "      <td>2.360682</td>\n",
       "      <td>8.477969</td>\n",
       "      <td>0.0</td>\n",
       "      <td>0.0</td>\n",
       "      <td>0.0</td>\n",
       "      <td>0.8</td>\n",
       "      <td>371.0</td>\n",
       "    </tr>\n",
       "  </tbody>\n",
       "</table>\n",
       "</div>"
      ],
      "text/plain": [
       "                  count         mean        std    min     25%     50%  \\\n",
       "MinTemp        141556.0    12.186400   6.403283   -8.5     7.6    12.0   \n",
       "MaxTemp        141871.0    23.226784   7.117618   -4.8    17.9    22.6   \n",
       "Rainfall       140787.0     2.349974   8.465173    0.0     0.0     0.0   \n",
       "Evaporation     81350.0     5.469824   4.188537    0.0     2.6     4.8   \n",
       "Sunshine        74377.0     7.624853   3.781525    0.0     4.9     8.5   \n",
       "WindGustSpeed  132923.0    39.984292  13.588801    6.0    31.0    39.0   \n",
       "WindSpeed9am   140845.0    14.001988   8.893337    0.0     7.0    13.0   \n",
       "WindSpeed3pm   139563.0    18.637576   8.803345    0.0    13.0    19.0   \n",
       "Humidity9am    140419.0    68.843810  19.051293    0.0    57.0    70.0   \n",
       "Humidity3pm    138583.0    51.482606  20.797772    0.0    37.0    52.0   \n",
       "Pressure9am    128179.0  1017.653758   7.105476  980.5  1012.9  1017.6   \n",
       "Pressure3pm    128212.0  1015.258204   7.036677  977.1  1010.4  1015.2   \n",
       "Cloud9am        88536.0     4.437189   2.887016    0.0     1.0     5.0   \n",
       "Cloud3pm        85099.0     4.503167   2.720633    0.0     2.0     5.0   \n",
       "Temp9am        141289.0    16.987509   6.492838   -7.2    12.3    16.7   \n",
       "Temp3pm        139467.0    21.687235   6.937594   -5.4    16.6    21.1   \n",
       "RISK_MM        142193.0     2.360682   8.477969    0.0     0.0     0.0   \n",
       "\n",
       "                  75%     max  \n",
       "MinTemp          16.8    33.9  \n",
       "MaxTemp          28.2    48.1  \n",
       "Rainfall          0.8   371.0  \n",
       "Evaporation       7.4   145.0  \n",
       "Sunshine         10.6    14.5  \n",
       "WindGustSpeed    48.0   135.0  \n",
       "WindSpeed9am     19.0   130.0  \n",
       "WindSpeed3pm     24.0    87.0  \n",
       "Humidity9am      83.0   100.0  \n",
       "Humidity3pm      66.0   100.0  \n",
       "Pressure9am    1022.4  1041.0  \n",
       "Pressure3pm    1020.0  1039.6  \n",
       "Cloud9am          7.0     9.0  \n",
       "Cloud3pm          7.0     9.0  \n",
       "Temp9am          21.6    40.2  \n",
       "Temp3pm          26.4    46.7  \n",
       "RISK_MM           0.8   371.0  "
      ]
     },
     "execution_count": 39,
     "metadata": {},
     "output_type": "execute_result"
    }
   ],
   "source": [
    "df.describe().T"
   ]
  },
  {
   "cell_type": "code",
   "execution_count": 40,
   "metadata": {},
   "outputs": [
    {
     "name": "stdout",
     "output_type": "stream",
     "text": [
      "<class 'pandas.core.frame.DataFrame'>\n",
      "RangeIndex: 142193 entries, 0 to 142192\n",
      "Data columns (total 24 columns):\n",
      "Date             142193 non-null datetime64[ns]\n",
      "Location         142193 non-null object\n",
      "MinTemp          141556 non-null float64\n",
      "MaxTemp          141871 non-null float64\n",
      "Rainfall         140787 non-null float64\n",
      "Evaporation      81350 non-null float64\n",
      "Sunshine         74377 non-null float64\n",
      "WindGustDir      132863 non-null object\n",
      "WindGustSpeed    132923 non-null float64\n",
      "WindDir9am       132180 non-null object\n",
      "WindDir3pm       138415 non-null object\n",
      "WindSpeed9am     140845 non-null float64\n",
      "WindSpeed3pm     139563 non-null float64\n",
      "Humidity9am      140419 non-null float64\n",
      "Humidity3pm      138583 non-null float64\n",
      "Pressure9am      128179 non-null float64\n",
      "Pressure3pm      128212 non-null float64\n",
      "Cloud9am         88536 non-null float64\n",
      "Cloud3pm         85099 non-null float64\n",
      "Temp9am          141289 non-null float64\n",
      "Temp3pm          139467 non-null float64\n",
      "RainToday        140787 non-null object\n",
      "RISK_MM          142193 non-null float64\n",
      "RainTomorrow     142193 non-null object\n",
      "dtypes: datetime64[ns](1), float64(17), object(6)\n",
      "memory usage: 68.4 MB\n"
     ]
    }
   ],
   "source": [
    "df.info(memory_usage='deep')"
   ]
  },
  {
   "cell_type": "code",
   "execution_count": 41,
   "metadata": {},
   "outputs": [
    {
     "data": {
      "text/plain": [
       "Date                 0\n",
       "Location             0\n",
       "MinTemp            637\n",
       "MaxTemp            322\n",
       "Rainfall          1406\n",
       "Evaporation      60843\n",
       "Sunshine         67816\n",
       "WindGustDir       9330\n",
       "WindGustSpeed     9270\n",
       "WindDir9am       10013\n",
       "WindDir3pm        3778\n",
       "WindSpeed9am      1348\n",
       "WindSpeed3pm      2630\n",
       "Humidity9am       1774\n",
       "Humidity3pm       3610\n",
       "Pressure9am      14014\n",
       "Pressure3pm      13981\n",
       "Cloud9am         53657\n",
       "Cloud3pm         57094\n",
       "Temp9am            904\n",
       "Temp3pm           2726\n",
       "RainToday         1406\n",
       "RISK_MM              0\n",
       "RainTomorrow         0\n",
       "dtype: int64"
      ]
     },
     "execution_count": 41,
     "metadata": {},
     "output_type": "execute_result"
    }
   ],
   "source": [
    "df.isna().sum()"
   ]
  },
  {
   "cell_type": "code",
   "execution_count": 42,
   "metadata": {},
   "outputs": [
    {
     "data": {
      "text/plain": [
       "array(['Albury', 'BadgerysCreek', 'Cobar', 'CoffsHarbour', 'Moree',\n",
       "       'Newcastle', 'NorahHead', 'NorfolkIsland', 'Penrith', 'Richmond',\n",
       "       'Sydney', 'SydneyAirport', 'WaggaWagga', 'Williamtown',\n",
       "       'Wollongong', 'Canberra', 'Tuggeranong', 'MountGinini', 'Ballarat',\n",
       "       'Bendigo', 'Sale', 'MelbourneAirport', 'Melbourne', 'Mildura',\n",
       "       'Nhil', 'Portland', 'Watsonia', 'Dartmoor', 'Brisbane', 'Cairns',\n",
       "       'GoldCoast', 'Townsville', 'Adelaide', 'MountGambier', 'Nuriootpa',\n",
       "       'Woomera', 'Albany', 'Witchcliffe', 'PearceRAAF', 'PerthAirport',\n",
       "       'Perth', 'SalmonGums', 'Walpole', 'Hobart', 'Launceston',\n",
       "       'AliceSprings', 'Darwin', 'Katherine', 'Uluru'], dtype=object)"
      ]
     },
     "execution_count": 42,
     "metadata": {},
     "output_type": "execute_result"
    }
   ],
   "source": [
    "df['Location'].unique()"
   ]
  },
  {
   "cell_type": "markdown",
   "metadata": {},
   "source": [
    "Let's double check the years we have data for, and how many values do we have per year"
   ]
  },
  {
   "cell_type": "code",
   "execution_count": 43,
   "metadata": {},
   "outputs": [
    {
     "data": {
      "text/plain": [
       "2016    17508\n",
       "2014    17400\n",
       "2015    17231\n",
       "2009    16595\n",
       "2010    16419\n",
       "2013    16097\n",
       "2011    15126\n",
       "2012    15044\n",
       "2017     8466\n",
       "2008     2246\n",
       "2007       61\n",
       "Name: Date, dtype: int64"
      ]
     },
     "execution_count": 43,
     "metadata": {},
     "output_type": "execute_result"
    }
   ],
   "source": [
    "df['Date'].dt.year.value_counts()"
   ]
  },
  {
   "cell_type": "markdown",
   "metadata": {},
   "source": [
    "Looks like not much data recorded for year 2007 .Let's check for which all stations it is recorded."
   ]
  },
  {
   "cell_type": "code",
   "execution_count": 44,
   "metadata": {},
   "outputs": [
    {
     "data": {
      "text/plain": [
       "array(['Canberra'], dtype=object)"
      ]
     },
     "execution_count": 44,
     "metadata": {},
     "output_type": "execute_result"
    }
   ],
   "source": [
    "df[df['Date'].dt.year==2007]['Location'].unique()"
   ]
  },
  {
   "cell_type": "markdown",
   "metadata": {},
   "source": [
    "Let's check data for Perth per year"
   ]
  },
  {
   "cell_type": "code",
   "execution_count": 45,
   "metadata": {},
   "outputs": [
    {
     "data": {
      "text/plain": [
       "2016    366\n",
       "2015    365\n",
       "2009    365\n",
       "2014    365\n",
       "2010    365\n",
       "2013    337\n",
       "2011    335\n",
       "2012    335\n",
       "2008    184\n",
       "2017    176\n",
       "Name: Date, dtype: int64"
      ]
     },
     "execution_count": 45,
     "metadata": {},
     "output_type": "execute_result"
    }
   ],
   "source": [
    "df.loc[df['Location'] == 'Perth', 'Date'].dt.year.value_counts()"
   ]
  },
  {
   "cell_type": "markdown",
   "metadata": {},
   "source": [
    "##### 2.1. Findings, Inconsistencies or Issues"
   ]
  },
  {
   "cell_type": "markdown",
   "metadata": {},
   "source": [
    "1. There are lot of missing values.\n",
    "2. For year 2007 data only recorded for Canberrra whether station."
   ]
  },
  {
   "cell_type": "markdown",
   "metadata": {},
   "source": [
    "##### 3. Clean & Prepare Data"
   ]
  },
  {
   "cell_type": "code",
   "execution_count": null,
   "metadata": {},
   "outputs": [],
   "source": [
    "# Let's normalise the columns\n",
    "df.columns = [col.lower() for col in df.columns]\n",
    "df.columns"
   ]
  },
  {
   "cell_type": "markdown",
   "metadata": {},
   "source": [
    "##### 3.1 Dealing with Missing Values"
   ]
  },
  {
   "cell_type": "markdown",
   "metadata": {},
   "source": [
    "Get rid of rows with too many missing values for each column.What we will do first by selecting to keep rows with at least 80% of the data in them. "
   ]
  },
  {
   "cell_type": "code",
   "execution_count": 47,
   "metadata": {},
   "outputs": [],
   "source": [
    "dfmiss = df.dropna(thresh=18).copy()"
   ]
  },
  {
   "cell_type": "code",
   "execution_count": 48,
   "metadata": {},
   "outputs": [
    {
     "data": {
      "text/plain": [
       "date              0.000000\n",
       "location          0.000000\n",
       "mintemp           0.082512\n",
       "maxtemp           0.046003\n",
       "rainfall          0.681276\n",
       "evaporation      41.154736\n",
       "sunshine         45.911982\n",
       "windgustdir       4.102257\n",
       "windgustspeed     4.081811\n",
       "winddir9am        5.026689\n",
       "winddir3pm        0.579778\n",
       "windspeed9am      0.116832\n",
       "windspeed3pm      0.100767\n",
       "humidity9am       0.608256\n",
       "humidity3pm       1.081424\n",
       "pressure9am       7.302719\n",
       "pressure3pm       7.266939\n",
       "cloud9am         37.232839\n",
       "cloud3pm         38.763335\n",
       "temp9am           0.088354\n",
       "temp3pm           0.536696\n",
       "raintoday         0.681276\n",
       "risk_mm           0.000000\n",
       "raintomorrow      0.000000\n",
       "dtype: float64"
      ]
     },
     "execution_count": 48,
     "metadata": {},
     "output_type": "execute_result"
    }
   ],
   "source": [
    "# check if there was a significant change\n",
    "(dfmiss.isna().sum() / dfmiss.shape[0]) * 100"
   ]
  },
  {
   "cell_type": "code",
   "execution_count": 49,
   "metadata": {},
   "outputs": [
    {
     "name": "stdout",
     "output_type": "stream",
     "text": [
      "<class 'pandas.core.frame.DataFrame'>\n",
      "Int64Index: 136949 entries, 0 to 142192\n",
      "Data columns (total 24 columns):\n",
      "date             136949 non-null datetime64[ns]\n",
      "location         136949 non-null object\n",
      "mintemp          136836 non-null float64\n",
      "maxtemp          136886 non-null float64\n",
      "rainfall         136016 non-null float64\n",
      "evaporation      80588 non-null float64\n",
      "sunshine         74073 non-null float64\n",
      "windgustdir      131331 non-null object\n",
      "windgustspeed    131359 non-null float64\n",
      "winddir9am       130065 non-null object\n",
      "winddir3pm       136155 non-null object\n",
      "windspeed9am     136789 non-null float64\n",
      "windspeed3pm     136811 non-null float64\n",
      "humidity9am      136116 non-null float64\n",
      "humidity3pm      135468 non-null float64\n",
      "pressure9am      126948 non-null float64\n",
      "pressure3pm      126997 non-null float64\n",
      "cloud9am         85959 non-null float64\n",
      "cloud3pm         83863 non-null float64\n",
      "temp9am          136828 non-null float64\n",
      "temp3pm          136214 non-null float64\n",
      "raintoday        136016 non-null object\n",
      "risk_mm          136949 non-null float64\n",
      "raintomorrow     136949 non-null object\n",
      "dtypes: datetime64[ns](1), float64(17), object(6)\n",
      "memory usage: 26.1+ MB\n"
     ]
    }
   ],
   "source": [
    "df.shape[0] - dfmiss.shape[0]\n",
    "dfmiss.info()"
   ]
  },
  {
   "cell_type": "markdown",
   "metadata": {},
   "source": [
    "We will iterate over the columns.If it is a float,fill in missing values with the median of that column\n",
    "else\n",
    "if the column contains data of type object and it has any missing values\n",
    ",convert the column to a category type\n",
    "and forward fill the missing values."
   ]
  },
  {
   "cell_type": "code",
   "execution_count": 50,
   "metadata": {},
   "outputs": [],
   "source": [
    "for col in dfmiss.columns:\n",
    "    if (dfmiss[col].dtype == 'float64') & (dfmiss[col].isna().any()):\n",
    "        dfmiss[col].fillna(value=dfmiss[col].median(), axis=0, inplace=True)\n",
    "    elif (dfmiss[col].dtype == 'object') & (dfmiss[col].isna().any()):\n",
    "        dfmiss[col].astype('category', copy=True)\n",
    "        dfmiss[col].fillna(method='ffill', axis=0, inplace=True)"
   ]
  },
  {
   "cell_type": "markdown",
   "metadata": {},
   "source": [
    "Now all the missing values are replaced."
   ]
  },
  {
   "cell_type": "code",
   "execution_count": 51,
   "metadata": {},
   "outputs": [
    {
     "data": {
      "text/plain": [
       "date             0\n",
       "location         0\n",
       "mintemp          0\n",
       "maxtemp          0\n",
       "rainfall         0\n",
       "evaporation      0\n",
       "sunshine         0\n",
       "windgustdir      0\n",
       "windgustspeed    0\n",
       "winddir9am       0\n",
       "winddir3pm       0\n",
       "windspeed9am     0\n",
       "windspeed3pm     0\n",
       "humidity9am      0\n",
       "humidity3pm      0\n",
       "pressure9am      0\n",
       "pressure3pm      0\n",
       "cloud9am         0\n",
       "cloud3pm         0\n",
       "temp9am          0\n",
       "temp3pm          0\n",
       "raintoday        0\n",
       "risk_mm          0\n",
       "raintomorrow     0\n",
       "dtype: int64"
      ]
     },
     "execution_count": 51,
     "metadata": {},
     "output_type": "execute_result"
    }
   ],
   "source": [
    "dfmiss.isna().sum()"
   ]
  },
  {
   "cell_type": "markdown",
   "metadata": {},
   "source": [
    "Since weather is time series data,create additional date variables for visualisation."
   ]
  },
  {
   "cell_type": "code",
   "execution_count": 52,
   "metadata": {},
   "outputs": [
    {
     "data": {
      "text/html": [
       "<div>\n",
       "<style scoped>\n",
       "    .dataframe tbody tr th:only-of-type {\n",
       "        vertical-align: middle;\n",
       "    }\n",
       "\n",
       "    .dataframe tbody tr th {\n",
       "        vertical-align: top;\n",
       "    }\n",
       "\n",
       "    .dataframe thead th {\n",
       "        text-align: right;\n",
       "    }\n",
       "</style>\n",
       "<table border=\"1\" class=\"dataframe\">\n",
       "  <thead>\n",
       "    <tr style=\"text-align: right;\">\n",
       "      <th></th>\n",
       "      <th>date</th>\n",
       "      <th>location</th>\n",
       "      <th>mintemp</th>\n",
       "      <th>maxtemp</th>\n",
       "      <th>rainfall</th>\n",
       "      <th>evaporation</th>\n",
       "      <th>sunshine</th>\n",
       "      <th>windgustdir</th>\n",
       "      <th>windgustspeed</th>\n",
       "      <th>winddir9am</th>\n",
       "      <th>winddir3pm</th>\n",
       "      <th>windspeed9am</th>\n",
       "      <th>windspeed3pm</th>\n",
       "      <th>humidity9am</th>\n",
       "      <th>humidity3pm</th>\n",
       "      <th>pressure9am</th>\n",
       "      <th>pressure3pm</th>\n",
       "      <th>cloud9am</th>\n",
       "      <th>cloud3pm</th>\n",
       "      <th>temp9am</th>\n",
       "      <th>temp3pm</th>\n",
       "      <th>raintoday</th>\n",
       "      <th>risk_mm</th>\n",
       "      <th>raintomorrow</th>\n",
       "      <th>month</th>\n",
       "      <th>year</th>\n",
       "      <th>week</th>\n",
       "      <th>weekday</th>\n",
       "      <th>quarter</th>\n",
       "      <th>day_of_week</th>\n",
       "      <th>week_or_end</th>\n",
       "    </tr>\n",
       "  </thead>\n",
       "  <tbody>\n",
       "    <tr>\n",
       "      <th>0</th>\n",
       "      <td>2008-12-01</td>\n",
       "      <td>Albury</td>\n",
       "      <td>13.4</td>\n",
       "      <td>22.9</td>\n",
       "      <td>0.6</td>\n",
       "      <td>4.8</td>\n",
       "      <td>8.5</td>\n",
       "      <td>W</td>\n",
       "      <td>44.0</td>\n",
       "      <td>W</td>\n",
       "      <td>WNW</td>\n",
       "      <td>20.0</td>\n",
       "      <td>24.0</td>\n",
       "      <td>71.0</td>\n",
       "      <td>22.0</td>\n",
       "      <td>1007.7</td>\n",
       "      <td>1007.1</td>\n",
       "      <td>8.0</td>\n",
       "      <td>5.0</td>\n",
       "      <td>16.9</td>\n",
       "      <td>21.8</td>\n",
       "      <td>No</td>\n",
       "      <td>0.0</td>\n",
       "      <td>No</td>\n",
       "      <td>12</td>\n",
       "      <td>2008</td>\n",
       "      <td>49</td>\n",
       "      <td>0</td>\n",
       "      <td>4</td>\n",
       "      <td>Monday</td>\n",
       "      <td>week_day</td>\n",
       "    </tr>\n",
       "    <tr>\n",
       "      <th>1</th>\n",
       "      <td>2008-12-02</td>\n",
       "      <td>Albury</td>\n",
       "      <td>7.4</td>\n",
       "      <td>25.1</td>\n",
       "      <td>0.0</td>\n",
       "      <td>4.8</td>\n",
       "      <td>8.5</td>\n",
       "      <td>WNW</td>\n",
       "      <td>44.0</td>\n",
       "      <td>NNW</td>\n",
       "      <td>WSW</td>\n",
       "      <td>4.0</td>\n",
       "      <td>22.0</td>\n",
       "      <td>44.0</td>\n",
       "      <td>25.0</td>\n",
       "      <td>1010.6</td>\n",
       "      <td>1007.8</td>\n",
       "      <td>5.0</td>\n",
       "      <td>5.0</td>\n",
       "      <td>17.2</td>\n",
       "      <td>24.3</td>\n",
       "      <td>No</td>\n",
       "      <td>0.0</td>\n",
       "      <td>No</td>\n",
       "      <td>12</td>\n",
       "      <td>2008</td>\n",
       "      <td>49</td>\n",
       "      <td>1</td>\n",
       "      <td>4</td>\n",
       "      <td>Tuesday</td>\n",
       "      <td>week_day</td>\n",
       "    </tr>\n",
       "    <tr>\n",
       "      <th>2</th>\n",
       "      <td>2008-12-03</td>\n",
       "      <td>Albury</td>\n",
       "      <td>12.9</td>\n",
       "      <td>25.7</td>\n",
       "      <td>0.0</td>\n",
       "      <td>4.8</td>\n",
       "      <td>8.5</td>\n",
       "      <td>WSW</td>\n",
       "      <td>46.0</td>\n",
       "      <td>W</td>\n",
       "      <td>WSW</td>\n",
       "      <td>19.0</td>\n",
       "      <td>26.0</td>\n",
       "      <td>38.0</td>\n",
       "      <td>30.0</td>\n",
       "      <td>1007.6</td>\n",
       "      <td>1008.7</td>\n",
       "      <td>5.0</td>\n",
       "      <td>2.0</td>\n",
       "      <td>21.0</td>\n",
       "      <td>23.2</td>\n",
       "      <td>No</td>\n",
       "      <td>0.0</td>\n",
       "      <td>No</td>\n",
       "      <td>12</td>\n",
       "      <td>2008</td>\n",
       "      <td>49</td>\n",
       "      <td>2</td>\n",
       "      <td>4</td>\n",
       "      <td>Wednesday</td>\n",
       "      <td>week_day</td>\n",
       "    </tr>\n",
       "    <tr>\n",
       "      <th>3</th>\n",
       "      <td>2008-12-04</td>\n",
       "      <td>Albury</td>\n",
       "      <td>9.2</td>\n",
       "      <td>28.0</td>\n",
       "      <td>0.0</td>\n",
       "      <td>4.8</td>\n",
       "      <td>8.5</td>\n",
       "      <td>NE</td>\n",
       "      <td>24.0</td>\n",
       "      <td>SE</td>\n",
       "      <td>E</td>\n",
       "      <td>11.0</td>\n",
       "      <td>9.0</td>\n",
       "      <td>45.0</td>\n",
       "      <td>16.0</td>\n",
       "      <td>1017.6</td>\n",
       "      <td>1012.8</td>\n",
       "      <td>5.0</td>\n",
       "      <td>5.0</td>\n",
       "      <td>18.1</td>\n",
       "      <td>26.5</td>\n",
       "      <td>No</td>\n",
       "      <td>1.0</td>\n",
       "      <td>No</td>\n",
       "      <td>12</td>\n",
       "      <td>2008</td>\n",
       "      <td>49</td>\n",
       "      <td>3</td>\n",
       "      <td>4</td>\n",
       "      <td>Thursday</td>\n",
       "      <td>week_day</td>\n",
       "    </tr>\n",
       "    <tr>\n",
       "      <th>4</th>\n",
       "      <td>2008-12-05</td>\n",
       "      <td>Albury</td>\n",
       "      <td>17.5</td>\n",
       "      <td>32.3</td>\n",
       "      <td>1.0</td>\n",
       "      <td>4.8</td>\n",
       "      <td>8.5</td>\n",
       "      <td>W</td>\n",
       "      <td>41.0</td>\n",
       "      <td>ENE</td>\n",
       "      <td>NW</td>\n",
       "      <td>7.0</td>\n",
       "      <td>20.0</td>\n",
       "      <td>82.0</td>\n",
       "      <td>33.0</td>\n",
       "      <td>1010.8</td>\n",
       "      <td>1006.0</td>\n",
       "      <td>7.0</td>\n",
       "      <td>8.0</td>\n",
       "      <td>17.8</td>\n",
       "      <td>29.7</td>\n",
       "      <td>No</td>\n",
       "      <td>0.2</td>\n",
       "      <td>No</td>\n",
       "      <td>12</td>\n",
       "      <td>2008</td>\n",
       "      <td>49</td>\n",
       "      <td>4</td>\n",
       "      <td>4</td>\n",
       "      <td>Friday</td>\n",
       "      <td>week_day</td>\n",
       "    </tr>\n",
       "  </tbody>\n",
       "</table>\n",
       "</div>"
      ],
      "text/plain": [
       "        date location  mintemp  maxtemp  rainfall  evaporation  sunshine  \\\n",
       "0 2008-12-01   Albury     13.4     22.9       0.6          4.8       8.5   \n",
       "1 2008-12-02   Albury      7.4     25.1       0.0          4.8       8.5   \n",
       "2 2008-12-03   Albury     12.9     25.7       0.0          4.8       8.5   \n",
       "3 2008-12-04   Albury      9.2     28.0       0.0          4.8       8.5   \n",
       "4 2008-12-05   Albury     17.5     32.3       1.0          4.8       8.5   \n",
       "\n",
       "  windgustdir  windgustspeed winddir9am winddir3pm  windspeed9am  \\\n",
       "0           W           44.0          W        WNW          20.0   \n",
       "1         WNW           44.0        NNW        WSW           4.0   \n",
       "2         WSW           46.0          W        WSW          19.0   \n",
       "3          NE           24.0         SE          E          11.0   \n",
       "4           W           41.0        ENE         NW           7.0   \n",
       "\n",
       "   windspeed3pm  humidity9am  humidity3pm  pressure9am  pressure3pm  cloud9am  \\\n",
       "0          24.0         71.0         22.0       1007.7       1007.1       8.0   \n",
       "1          22.0         44.0         25.0       1010.6       1007.8       5.0   \n",
       "2          26.0         38.0         30.0       1007.6       1008.7       5.0   \n",
       "3           9.0         45.0         16.0       1017.6       1012.8       5.0   \n",
       "4          20.0         82.0         33.0       1010.8       1006.0       7.0   \n",
       "\n",
       "   cloud3pm  temp9am  temp3pm raintoday  risk_mm raintomorrow  month  year  \\\n",
       "0       5.0     16.9     21.8        No      0.0           No     12  2008   \n",
       "1       5.0     17.2     24.3        No      0.0           No     12  2008   \n",
       "2       2.0     21.0     23.2        No      0.0           No     12  2008   \n",
       "3       5.0     18.1     26.5        No      1.0           No     12  2008   \n",
       "4       8.0     17.8     29.7        No      0.2           No     12  2008   \n",
       "\n",
       "   week  weekday  quarter day_of_week week_or_end  \n",
       "0    49        0        4      Monday    week_day  \n",
       "1    49        1        4     Tuesday    week_day  \n",
       "2    49        2        4   Wednesday    week_day  \n",
       "3    49        3        4    Thursday    week_day  \n",
       "4    49        4        4      Friday    week_day  "
      ]
     },
     "execution_count": 52,
     "metadata": {},
     "output_type": "execute_result"
    }
   ],
   "source": [
    "dfmiss['month'] = dfmiss['date'].dt.month\n",
    "dfmiss['year'] = dfmiss['date'].dt.year\n",
    "dfmiss['week'] = dfmiss['date'].dt.week\n",
    "dfmiss['weekday'] = dfmiss['date'].dt.weekday\n",
    "dfmiss['quarter'] = dfmiss['date'].dt.quarter\n",
    "dfmiss['day_of_week'] = dfmiss['date'].dt.day_name()\n",
    "dfmiss['week_or_end'] = dfmiss['weekday'].apply(lambda x: 'weekend' if x >= 5 else 'week_day')\n",
    "dfmiss.head()"
   ]
  },
  {
   "cell_type": "markdown",
   "metadata": {},
   "source": [
    "We might want to represent the quarter variable as an object later on,so create a dictionary with the values, and pass it to our Python's .map() method. "
   ]
  },
  {
   "cell_type": "code",
   "execution_count": 59,
   "metadata": {},
   "outputs": [],
   "source": [
    "mapping = {1:'first_Q',\n",
    "           2:'second_Q',\n",
    "           3:'third_Q',\n",
    "           4:'fourth_Q'}\n",
    "\n",
    "dfmiss['qtr_cate'] = dfmiss['quarter'].map(mapping)"
   ]
  },
  {
   "cell_type": "markdown",
   "metadata": {},
   "source": [
    "Drop unwanted columns and save the dataset for later use."
   ]
  },
  {
   "cell_type": "code",
   "execution_count": 60,
   "metadata": {},
   "outputs": [],
   "source": [
    "df.drop(columns=['risk_mm'],axis=1,inplace=True)"
   ]
  },
  {
   "cell_type": "code",
   "execution_count": 61,
   "metadata": {},
   "outputs": [],
   "source": [
    "df_ready = dfmiss.reset_index(drop=True).copy()\n",
    "df_ready.to_csv('weather_ready.csv', index=False)"
   ]
  },
  {
   "cell_type": "markdown",
   "metadata": {},
   "source": [
    "##### 4. Exploratorary Data Analysis"
   ]
  },
  {
   "cell_type": "code",
   "execution_count": 70,
   "metadata": {},
   "outputs": [],
   "source": [
    "#Load Libraries\n",
    "import pandas as pd\n",
    "import numpy as np\n",
    "import matplotlib.pyplot as plt\n",
    "import seaborn as sns\n",
    "plt.style.use('seaborn-white')\n",
    "%matplotlib inline"
   ]
  },
  {
   "cell_type": "code",
   "execution_count": 65,
   "metadata": {},
   "outputs": [
    {
     "data": {
      "text/html": [
       "<div>\n",
       "<style scoped>\n",
       "    .dataframe tbody tr th:only-of-type {\n",
       "        vertical-align: middle;\n",
       "    }\n",
       "\n",
       "    .dataframe tbody tr th {\n",
       "        vertical-align: top;\n",
       "    }\n",
       "\n",
       "    .dataframe thead th {\n",
       "        text-align: right;\n",
       "    }\n",
       "</style>\n",
       "<table border=\"1\" class=\"dataframe\">\n",
       "  <thead>\n",
       "    <tr style=\"text-align: right;\">\n",
       "      <th></th>\n",
       "      <th>date</th>\n",
       "      <th>location</th>\n",
       "      <th>mintemp</th>\n",
       "      <th>maxtemp</th>\n",
       "      <th>rainfall</th>\n",
       "      <th>evaporation</th>\n",
       "      <th>sunshine</th>\n",
       "      <th>windgustdir</th>\n",
       "      <th>windgustspeed</th>\n",
       "      <th>winddir9am</th>\n",
       "      <th>winddir3pm</th>\n",
       "      <th>windspeed9am</th>\n",
       "      <th>windspeed3pm</th>\n",
       "      <th>humidity9am</th>\n",
       "      <th>humidity3pm</th>\n",
       "      <th>pressure9am</th>\n",
       "      <th>pressure3pm</th>\n",
       "      <th>cloud9am</th>\n",
       "      <th>cloud3pm</th>\n",
       "      <th>temp9am</th>\n",
       "      <th>temp3pm</th>\n",
       "      <th>raintoday</th>\n",
       "      <th>risk_mm</th>\n",
       "      <th>raintomorrow</th>\n",
       "      <th>month</th>\n",
       "      <th>year</th>\n",
       "      <th>week</th>\n",
       "      <th>weekday</th>\n",
       "      <th>quarter</th>\n",
       "      <th>day_of_week</th>\n",
       "      <th>week_or_end</th>\n",
       "      <th>qtr_cate</th>\n",
       "    </tr>\n",
       "  </thead>\n",
       "  <tbody>\n",
       "    <tr>\n",
       "      <th>0</th>\n",
       "      <td>2008-12-01</td>\n",
       "      <td>Albury</td>\n",
       "      <td>13.4</td>\n",
       "      <td>22.9</td>\n",
       "      <td>0.6</td>\n",
       "      <td>4.8</td>\n",
       "      <td>8.5</td>\n",
       "      <td>W</td>\n",
       "      <td>44.0</td>\n",
       "      <td>W</td>\n",
       "      <td>WNW</td>\n",
       "      <td>20.0</td>\n",
       "      <td>24.0</td>\n",
       "      <td>71.0</td>\n",
       "      <td>22.0</td>\n",
       "      <td>1007.7</td>\n",
       "      <td>1007.1</td>\n",
       "      <td>8.0</td>\n",
       "      <td>5.0</td>\n",
       "      <td>16.9</td>\n",
       "      <td>21.8</td>\n",
       "      <td>No</td>\n",
       "      <td>0.0</td>\n",
       "      <td>No</td>\n",
       "      <td>12</td>\n",
       "      <td>2008</td>\n",
       "      <td>49</td>\n",
       "      <td>0</td>\n",
       "      <td>4</td>\n",
       "      <td>Monday</td>\n",
       "      <td>week_day</td>\n",
       "      <td>fourth_Q</td>\n",
       "    </tr>\n",
       "    <tr>\n",
       "      <th>1</th>\n",
       "      <td>2008-12-02</td>\n",
       "      <td>Albury</td>\n",
       "      <td>7.4</td>\n",
       "      <td>25.1</td>\n",
       "      <td>0.0</td>\n",
       "      <td>4.8</td>\n",
       "      <td>8.5</td>\n",
       "      <td>WNW</td>\n",
       "      <td>44.0</td>\n",
       "      <td>NNW</td>\n",
       "      <td>WSW</td>\n",
       "      <td>4.0</td>\n",
       "      <td>22.0</td>\n",
       "      <td>44.0</td>\n",
       "      <td>25.0</td>\n",
       "      <td>1010.6</td>\n",
       "      <td>1007.8</td>\n",
       "      <td>5.0</td>\n",
       "      <td>5.0</td>\n",
       "      <td>17.2</td>\n",
       "      <td>24.3</td>\n",
       "      <td>No</td>\n",
       "      <td>0.0</td>\n",
       "      <td>No</td>\n",
       "      <td>12</td>\n",
       "      <td>2008</td>\n",
       "      <td>49</td>\n",
       "      <td>1</td>\n",
       "      <td>4</td>\n",
       "      <td>Tuesday</td>\n",
       "      <td>week_day</td>\n",
       "      <td>fourth_Q</td>\n",
       "    </tr>\n",
       "    <tr>\n",
       "      <th>2</th>\n",
       "      <td>2008-12-03</td>\n",
       "      <td>Albury</td>\n",
       "      <td>12.9</td>\n",
       "      <td>25.7</td>\n",
       "      <td>0.0</td>\n",
       "      <td>4.8</td>\n",
       "      <td>8.5</td>\n",
       "      <td>WSW</td>\n",
       "      <td>46.0</td>\n",
       "      <td>W</td>\n",
       "      <td>WSW</td>\n",
       "      <td>19.0</td>\n",
       "      <td>26.0</td>\n",
       "      <td>38.0</td>\n",
       "      <td>30.0</td>\n",
       "      <td>1007.6</td>\n",
       "      <td>1008.7</td>\n",
       "      <td>5.0</td>\n",
       "      <td>2.0</td>\n",
       "      <td>21.0</td>\n",
       "      <td>23.2</td>\n",
       "      <td>No</td>\n",
       "      <td>0.0</td>\n",
       "      <td>No</td>\n",
       "      <td>12</td>\n",
       "      <td>2008</td>\n",
       "      <td>49</td>\n",
       "      <td>2</td>\n",
       "      <td>4</td>\n",
       "      <td>Wednesday</td>\n",
       "      <td>week_day</td>\n",
       "      <td>fourth_Q</td>\n",
       "    </tr>\n",
       "  </tbody>\n",
       "</table>\n",
       "</div>"
      ],
      "text/plain": [
       "        date location  mintemp  maxtemp  rainfall  evaporation  sunshine  \\\n",
       "0 2008-12-01   Albury     13.4     22.9       0.6          4.8       8.5   \n",
       "1 2008-12-02   Albury      7.4     25.1       0.0          4.8       8.5   \n",
       "2 2008-12-03   Albury     12.9     25.7       0.0          4.8       8.5   \n",
       "\n",
       "  windgustdir  windgustspeed winddir9am winddir3pm  windspeed9am  \\\n",
       "0           W           44.0          W        WNW          20.0   \n",
       "1         WNW           44.0        NNW        WSW           4.0   \n",
       "2         WSW           46.0          W        WSW          19.0   \n",
       "\n",
       "   windspeed3pm  humidity9am  humidity3pm  pressure9am  pressure3pm  cloud9am  \\\n",
       "0          24.0         71.0         22.0       1007.7       1007.1       8.0   \n",
       "1          22.0         44.0         25.0       1010.6       1007.8       5.0   \n",
       "2          26.0         38.0         30.0       1007.6       1008.7       5.0   \n",
       "\n",
       "   cloud3pm  temp9am  temp3pm raintoday  risk_mm raintomorrow  month  year  \\\n",
       "0       5.0     16.9     21.8        No      0.0           No     12  2008   \n",
       "1       5.0     17.2     24.3        No      0.0           No     12  2008   \n",
       "2       2.0     21.0     23.2        No      0.0           No     12  2008   \n",
       "\n",
       "   week  weekday  quarter day_of_week week_or_end  qtr_cate  \n",
       "0    49        0        4      Monday    week_day  fourth_Q  \n",
       "1    49        1        4     Tuesday    week_day  fourth_Q  \n",
       "2    49        2        4   Wednesday    week_day  fourth_Q  "
      ]
     },
     "execution_count": 65,
     "metadata": {},
     "output_type": "execute_result"
    }
   ],
   "source": [
    "df = pd.read_csv('weather_ready.csv', parse_dates=['date'])\n",
    "df.head(3)"
   ]
  },
  {
   "cell_type": "markdown",
   "metadata": {},
   "source": [
    "Fig 1: Let's examine maximum temperature distribution.The plot tells upon first inspection that our data is normally distributed."
   ]
  },
  {
   "cell_type": "code",
   "execution_count": null,
   "metadata": {},
   "outputs": [],
   "source": [
    "plt.hist(x=df['maxtemp'], color='green', bins=40, edgecolor='white')\n",
    "plt.title('Maximum Temperature - 2007-2017')\n",
    "plt.show()"
   ]
  },
  {
   "cell_type": "markdown",
   "metadata": {},
   "source": [
    "Fig 2: Let's plot maximum and minimum temperature together and see the distribution."
   ]
  },
  {
   "cell_type": "code",
   "execution_count": null,
   "metadata": {},
   "outputs": [],
   "source": [
    "plt.hist(x=df['maxtemp'], color='red', bins=50, histtype='stepfilled', alpha=0.4)\n",
    "plt.hist(x=df['mintemp'], color='cyan', bins=50, histtype='stepfilled', alpha=0.5)\n",
    "plt.title('Maximum & Minimum Temperature - 2007-2017', fontdict={'fontsize': 15})\n",
    "plt.xlabel('Temperature Distribution in Celcius')\n",
    "plt.ylabel('Temperature Frequency in 10 Years')\n",
    "plt.show()"
   ]
  },
  {
   "cell_type": "markdown",
   "metadata": {},
   "source": [
    "Fig 3: Are there any relationship between rain and temperature at 3pm?"
   ]
  },
  {
   "cell_type": "code",
   "execution_count": null,
   "metadata": {},
   "outputs": [],
   "source": [
    "plt.scatter(x=df['rainfall'], y=df['temp3pm'], marker='.', color='red', alpha=0.7, s=1.5)\n",
    "plt.xlim(0, 250)\n",
    "plt.title('Relationship Between Rain and Temperature at 3 pm from 2007-2017', fontdict={'fontsize': 10})\n",
    "plt.xlabel('Rainfall')\n",
    "plt.ylabel('Temperature Frequency at 3 pm')\n",
    "plt.show()\n"
   ]
  },
  {
   "cell_type": "markdown",
   "metadata": {},
   "source": [
    "Find average humidity by year"
   ]
  },
  {
   "cell_type": "code",
   "execution_count": null,
   "metadata": {},
   "outputs": [],
   "source": [
    "hum_by_year = df.pivot_table(\n",
    "    index='year',\n",
    "    values=['humidity9am', 'humidity3pm'],\n",
    "    aggfunc='mean'\n",
    ")\n",
    "hum_by_year"
   ]
  },
  {
   "cell_type": "markdown",
   "metadata": {},
   "source": [
    "Fig 4: Plot Average humidity at 9m and 3pm by year."
   ]
  },
  {
   "cell_type": "code",
   "execution_count": null,
   "metadata": {},
   "outputs": [],
   "source": [
    "# Create the fig and ax objects\n",
    "fig, ax = plt.subplots()\n",
    "\n",
    "# add the 9am data and label to the ax object\n",
    "ax.plot(hum_by_year.index, hum_by_year['humidity9am'], label='Humidity 9am', marker='o')\n",
    "# add the 3pm data and label to the ax object\n",
    "ax.plot(hum_by_year.index, hum_by_year['humidity3pm'], label='Humidity 3pm', marker='v')\n",
    "ax.set_xlabel(\"Years\")\n",
    "ax.set_ylabel(\"Average Humidity\")\n",
    "# show the legend with labels\n",
    "plt.legend()\n",
    "plt.show()"
   ]
  },
  {
   "cell_type": "markdown",
   "metadata": {},
   "source": [
    "Fig 5: Show the distributions of our 4 temperature variables"
   ]
  },
  {
   "cell_type": "code",
   "execution_count": null,
   "metadata": {},
   "outputs": [],
   "source": [
    "# Create the fig and ax objects\n",
    "fig, ax = plt.subplots(2, 2, sharey=True, figsize=(10, 8))\n",
    "\n",
    "# add the 9am data and label to the ax object\n",
    "ax[0, 0].hist(df['mintemp'], bins=55, color='blue', alpha=0.5)\n",
    "ax[0, 1].hist(df['maxtemp'], bins=55, color='red', alpha=0.5)\n",
    "ax[1, 0].hist(df['temp9am'], bins=55, color='cyan', alpha=0.5)\n",
    "ax[1, 1].hist(df['temp3pm'], bins=55, color='green', alpha=0.5)\n",
    "\n",
    "# ax.set(title=\"Distributions of Temperatures between 2007-2017\")\n",
    "ax[0, 0].set_xlabel(\"Min Temperature\")\n",
    "ax[0, 1].set_xlabel(\"Max Temperature\")\n",
    "ax[1, 0].set_xlabel(\"Temp at 9am\")\n",
    "ax[1, 1].set_xlabel(\"Temp at 3pm\")\n",
    "ax[0, 0].set_ylabel(\"Frequency\")\n",
    "ax[1, 0].set_ylabel(\"Frequency\")\n",
    "\n",
    "fig.savefig('temp_plots.png')\n"
   ]
  },
  {
   "cell_type": "markdown",
   "metadata": {},
   "source": [
    "Fig 6: Where does wind come from most of the time?"
   ]
  },
  {
   "cell_type": "code",
   "execution_count": 79,
   "metadata": {},
   "outputs": [
    {
     "data": {
      "image/png": "[encoded data removed]",
      "text/plain": [
       "<Figure size 432x288 with 1 Axes>"
      ]
     },
     "metadata": {},
     "output_type": "display_data"
    }
   ],
   "source": [
    "sns.countplot(x='windgustdir', data=df)\n",
    "plt.xticks(rotation=45)\n",
    "plt.title(\"Where does the wind come from most of the time?\")\n",
    "plt.show()"
   ]
  },
  {
   "cell_type": "markdown",
   "metadata": {},
   "source": [
    "Fig 7: Did it rain a lot in Perth in 2014?"
   ]
  },
  {
   "cell_type": "code",
   "execution_count": null,
   "metadata": {},
   "outputs": [],
   "source": [
    "sns.countplot(x='raintoday', data=df[(df['location'] == 'Perth') & (df['year'] == 2014)])\n",
    "plt.xlabel(\"Did it Rain Today?\")\n",
    "plt.title(\"Did it rain a lot in Perth in 2014?\")\n",
    "plt.show()"
   ]
  },
  {
   "cell_type": "markdown",
   "metadata": {},
   "source": [
    "Fig 8: Did it rain a lot in 2014?"
   ]
  },
  {
   "cell_type": "code",
   "execution_count": null,
   "metadata": {},
   "outputs": [],
   "source": [
    "df_2014 = df[df['year'] == 2014].copy()\n",
    "df_2014.shape\n",
    "sns.catplot(x='raintomorrow', data=df_2014, kind='count')\n",
    "plt.xlabel(\"Did it Rain Tomorrow?\")\n",
    "plt.title(\"Did it rain a lot in 2014?\")\n",
    "plt.show()"
   ]
  },
  {
   "cell_type": "markdown",
   "metadata": {},
   "source": [
    "Fig 9: Let's check amount of rain in inches and per day in 2014"
   ]
  },
  {
   "cell_type": "code",
   "execution_count": null,
   "metadata": {},
   "outputs": [],
   "source": [
    "sns.catplot(x='day_of_week', y='rainfall', data=df_2014, kind='bar')\n",
    "plt.xlabel(\"Day of the Week\")\n",
    "plt.ylabel(\"Rain Fall (inches)\")\n",
    "plt.title(\"Amount of rain in inches and per day in 2014\")\n",
    "plt.show()"
   ]
  },
  {
   "cell_type": "markdown",
   "metadata": {},
   "source": [
    "Fig 10: Distribution of maximum temperature in weekdays of 2014"
   ]
  },
  {
   "cell_type": "code",
   "execution_count": null,
   "metadata": {},
   "outputs": [],
   "source": [
    "sns.catplot(x='day_of_week', y='maxtemp', data=df_2014, kind='box')\n",
    "plt.xlabel(\"Day of the Week\")\n",
    "plt.ylabel(\"Max Temp\")\n",
    "plt.title(\"Distribution of the Max Temp in the weekdays of 2014\")\n",
    "plt.show()"
   ]
  },
  {
   "cell_type": "markdown",
   "metadata": {},
   "source": [
    "Fig 11: Did it rail a lot in Perth in 2014?"
   ]
  },
  {
   "cell_type": "code",
   "execution_count": null,
   "metadata": {},
   "outputs": [],
   "source": [
    "palette_colors = {'weekend': \"green\", 'week_day': \"blue\"}\n",
    "\n",
    "sns.countplot(x='raintoday', data=df[(df['location'] == 'Perth') & (df['year'] == 2014)],\n",
    "              hue='week_or_end', palette=palette_colors)\n",
    "\n",
    "plt.title(\"Did it rain a lot in Perth in 2014?\")\n",
    "\n",
    "plt.show()"
   ]
  },
  {
   "cell_type": "markdown",
   "metadata": {},
   "source": [
    "Fig 12: Are rainy days correlated with high temperatures?"
   ]
  },
  {
   "cell_type": "code",
   "execution_count": null,
   "metadata": {},
   "outputs": [],
   "source": [
    "sns.set_style('whitegrid')\n",
    "sns.scatterplot(x='maxtemp', y='rainfall', data=df)\n",
    "plt.title(\"Are rainy days correlated with high temperatures?\")\n",
    "plt.show()"
   ]
  },
  {
   "cell_type": "markdown",
   "metadata": {},
   "source": [
    "Fig 13: If it is humid in the morning will it be humid in the afternoon?"
   ]
  },
  {
   "cell_type": "code",
   "execution_count": null,
   "metadata": {},
   "outputs": [],
   "source": [
    "sns.scatterplot(x='humidity9am', y='temp3pm', data=df.sample(frac=.05), hue='raintomorrow')\n",
    "plt.xlabel(\"Humidity at 9am\")\n",
    "plt.ylabel(\"Humidity at 3pm\")\n",
    "plt.title(\"If it is humid in the mornig will it be humid in the afternoon?\")\n",
    "plt.show()"
   ]
  },
  {
   "cell_type": "markdown",
   "metadata": {},
   "source": [
    "Fig 14: Is there any relationship between rainfall and windspeed at 9am?"
   ]
  },
  {
   "cell_type": "code",
   "execution_count": null,
   "metadata": {},
   "outputs": [],
   "source": [
    "sns.relplot(x='rainfall', \n",
    "            y='windspeed9am', \n",
    "            data=df_2014, \n",
    "            kind='scatter',\n",
    "            col='week_or_end')\n",
    "plt.show()"
   ]
  },
  {
   "cell_type": "markdown",
   "metadata": {},
   "source": [
    "Fig 15: Is there any relationship between rainfall and windspeed at 9am?"
   ]
  },
  {
   "cell_type": "code",
   "execution_count": null,
   "metadata": {},
   "outputs": [],
   "source": [
    "sns.relplot(x='rainfall', \n",
    "            y='windspeed9am', \n",
    "            data=df_2014, \n",
    "            kind='scatter',\n",
    "            col='week_or_end',\n",
    "            row='raintomorrow')\n",
    "plt.show()"
   ]
  },
  {
   "cell_type": "markdown",
   "metadata": {},
   "source": [
    "Fig 16: Is there any relationship between rainfall and windspeed at 9am"
   ]
  },
  {
   "cell_type": "code",
   "execution_count": null,
   "metadata": {},
   "outputs": [],
   "source": [
    "df_2014_no_outliers = df_2014[df_2014['rainfall'] < 60]\n",
    "sns.relplot(x='rainfall', \n",
    "            y='maxtemp', \n",
    "            data=df_2014_no_outliers.sample(frac=0.2), \n",
    "            kind='scatter',\n",
    "            hue='weekday',\n",
    "            size='weekday')\n",
    "plt.show()"
   ]
  },
  {
   "cell_type": "markdown",
   "metadata": {},
   "source": [
    "Fig 17: Precipitation Monthly Trend in 2014"
   ]
  },
  {
   "cell_type": "code",
   "execution_count": null,
   "metadata": {},
   "outputs": [],
   "source": [
    "sns.relplot(x='month', y='rainfall', data=df_2014, kind='line')\n",
    "plt.xlabel('Months of 2014')\n",
    "plt.ylabel('Rain in inches')\n",
    "plt.title(\"Precipitation Monthly Trend in 2014\")\n",
    "plt.show()"
   ]
  },
  {
   "cell_type": "markdown",
   "metadata": {},
   "source": [
    "Fig 18: Precipitation Monthly Trend by Week or W-End in 2014"
   ]
  },
  {
   "cell_type": "code",
   "execution_count": null,
   "metadata": {},
   "outputs": [],
   "source": [
    "sns.relplot(x='month', y='rainfall', data=df_2014, kind='line', style='week_or_end', hue='week_or_end', markers=True, ci=False)\n",
    "plt.xlabel('Months of 2014')\n",
    "plt.ylabel('Rain in inches')\n",
    "plt.title(\"Precipitation Monthly Trend by Week or W-End in 2014\")\n",
    "plt.savefig(\"more_trends\", dpi=350)\n",
    "plt.show()"
   ]
  },
  {
   "cell_type": "markdown",
   "metadata": {},
   "source": [
    "Fig 19: Interactive graph using bokeh"
   ]
  },
  {
   "cell_type": "code",
   "execution_count": null,
   "metadata": {},
   "outputs": [],
   "source": [
    "from bokeh.io import output_file, show, output_notebook\n",
    "from bokeh.plotting import figure\n",
    "output_notebook()\n",
    "\n",
    "%matplotlib inline\n",
    "plot.circle(df['rainfall'], df['mintemp'])\n",
    "output_file('circle.html')"
   ]
  },
  {
   "cell_type": "code",
   "execution_count": null,
   "metadata": {},
   "outputs": [],
   "source": [
    "p.circle(x=df['rainfall'], y=df['humidity9am'], size=4)\n",
    "show(p)"
   ]
  },
  {
   "cell_type": "code",
   "execution_count": null,
   "metadata": {},
   "outputs": [],
   "source": [
    "Color mapping\n",
    "from bokeh.models import CategoricalColorMapper\n",
    "# this tool allows us to map specific colors to specific categories within a variable\n",
    "mapper = CategoricalColorMapper(\n",
    "    factors=['first_Q', 'second_Q', 'third_Q', 'fourth_Q'],\n",
    "    palette=['bisque', 'rosybrown', 'chocolate', 'maroon']\n",
    ")\n",
    "\n",
    "# labels can be added within the figure parameter\n",
    "plot5 = figure(x_axis_label='rainfall',\n",
    "              y_axis_label='mintemp'\n",
    "              )\n",
    "\n",
    "plot5.circle('rainfall', 'mintemp',\n",
    "            size=7, source=df,\n",
    "            color={'field':'qtr_cate', # pass in the color as a dictionary and specify the field first, e.g. our qrt_cate variable\n",
    "                  'transform': mapper}, # assign the colors with transform param\n",
    "            legend='qtr_cate' # add your legend for the categories\n",
    "           )\n",
    "\n",
    "# move the legend to a convenient spot\n",
    "plot5.legend.location = 'top_right'\n"
   ]
  },
  {
   "cell_type": "markdown",
   "metadata": {},
   "source": [
    "##### 5. Summary"
   ]
  },
  {
   "cell_type": "code",
   "execution_count": null,
   "metadata": {},
   "outputs": [],
   "source": []
  }
 ],
 "metadata": {
  "kernelspec": {
   "display_name": "Python 3",
   "language": "python",
   "name": "python3"
  },
  "language_info": {
   "codemirror_mode": {
    "name": "ipython",
    "version": 3
   },
   "file_extension": ".py",
   "mimetype": "text/x-python",
   "name": "python",
   "nbconvert_exporter": "python",
   "pygments_lexer": "ipython3",
   "version": "3.7.6"
  }
 },
 "nbformat": 4,
 "nbformat_minor": 4
}
