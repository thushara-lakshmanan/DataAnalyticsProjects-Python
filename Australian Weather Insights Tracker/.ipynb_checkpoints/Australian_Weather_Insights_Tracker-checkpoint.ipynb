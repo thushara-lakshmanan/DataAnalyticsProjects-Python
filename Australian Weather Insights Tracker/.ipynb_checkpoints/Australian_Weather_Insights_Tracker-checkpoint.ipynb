{
 "cells": [
  {
   "cell_type": "markdown",
   "metadata": {},
   "source": [
    "#### Australian Weather Insights Tracker 2007-2017\n"
   ]
  },
  {
   "cell_type": "markdown",
   "metadata": {},
   "source": [
    "#### About Data\n",
    "\n",
    "This dataset contains weather information from many of the weather stations around Australia. For most weather stations, we have about 365 observations for the years 2007 to 2017. More information about the dataset can be found in the Australian Bureau of Meteorology website, and below you can find a short description of the variables in the dataset."
   ]
  },
  {
   "cell_type": "markdown",
   "metadata": {},
   "source": [
    "1 Load"
   ]
  },
  {
   "cell_type": "code",
   "execution_count": null,
   "metadata": {},
   "outputs": [],
   "source": [
    "import pandas as pd\n",
    "import numpy as np\n",
    "pd.set_option('display.max_columns', None)\n",
    "df = pd.read_csv(\"../datasets/files/weatherAUS.csv\", parse_dates=['Date'])\n"
   ]
  },
  {
   "cell_type": "markdown",
   "metadata": {},
   "source": [
    "#### 4.2 Inpect Data"
   ]
  },
  {
   "cell_type": "code",
   "execution_count": null,
   "metadata": {},
   "outputs": [],
   "source": [
    "df.shape()"
   ]
  },
  {
   "cell_type": "code",
   "execution_count": null,
   "metadata": {},
   "outputs": [],
   "source": [
    "df.describe().T"
   ]
  },
  {
   "cell_type": "code",
   "execution_count": null,
   "metadata": {},
   "outputs": [],
   "source": [
    "df.isna().sum()"
   ]
  },
  {
   "cell_type": "code",
   "execution_count": null,
   "metadata": {},
   "outputs": [],
   "source": [
    "#Let's double check the years we have data for, and how many values do we have per year\n",
    "df['Date'].dt.year.value_counts()\n",
    "sorted(df.loc[df['Location'] == 'Sydney', 'Date'].dt.year.value_counts())"
   ]
  },
  {
   "cell_type": "markdown",
   "metadata": {},
   "source": [
    "4.3 Clean & Prepare"
   ]
  },
  {
   "cell_type": "code",
   "execution_count": null,
   "metadata": {},
   "outputs": [],
   "source": [
    "# Let's normalise the columns\n",
    "df.columns = [col.lower() for col in df.columns]\n",
    "df.columns"
   ]
  },
  {
   "cell_type": "markdown",
   "metadata": {},
   "source": [
    "4.3.1 Dealing with Missing Values"
   ]
  },
  {
   "cell_type": "markdown",
   "metadata": {},
   "source": [
    "get rid of rows with too many missing values for each column.What we will do first by selecting to keep rows with at least 80% of the data in them. "
   ]
  },
  {
   "cell_type": "code",
   "execution_count": null,
   "metadata": {},
   "outputs": [],
   "source": [
    "dfmiss = df.dropna(thresh=18).copy()"
   ]
  },
  {
   "cell_type": "code",
   "execution_count": null,
   "metadata": {},
   "outputs": [],
   "source": [
    "# check if there was a significant change\n",
    "(dfmiss.isna().sum() / dfmiss.shape[0]) * 100"
   ]
  },
  {
   "cell_type": "code",
   "execution_count": null,
   "metadata": {},
   "outputs": [],
   "source": [
    "df.shape[0] - dfmiss.shape[0]\n",
    "dfmiss.info()"
   ]
  },
  {
   "cell_type": "markdown",
   "metadata": {},
   "source": [
    "we will iterate over the columns.if it is a float, we will fill in missing values with the median of that column\n",
    "else\n",
    "if the column contains data of type object and it has any missing values\n",
    "we will convert the column to a category type\n",
    "and forward fill the missing values"
   ]
  },
  {
   "cell_type": "code",
   "execution_count": null,
   "metadata": {},
   "outputs": [],
   "source": [
    "\n",
    "for col in dfmiss.columns:\n",
    "    if (dfmiss[col].dtype == 'float64') & (dfmiss[col].isna().any()):\n",
    "        dfmiss[col].fillna(value=dfmiss[col].median(), axis=0, inplace=True)\n",
    "    elif (dfmiss[col].dtype == 'object') & (dfmiss[col].isna().any()):\n",
    "        dfmiss[col].astype('category', copy=True)\n",
    "        dfmiss[col].fillna(method='ffill', axis=0, inplace=True)"
   ]
  },
  {
   "cell_type": "code",
   "execution_count": null,
   "metadata": {},
   "outputs": [],
   "source": [
    "dfmiss.isna().sum()"
   ]
  },
  {
   "cell_type": "markdown",
   "metadata": {},
   "source": [
    "Since weather is time series data, we will create additional date variables for visualisation "
   ]
  },
  {
   "cell_type": "code",
   "execution_count": null,
   "metadata": {},
   "outputs": [],
   "source": [
    "dfmiss['month'] = dfmiss['date'].dt.month\n",
    "dfmiss['year'] = dfmiss['date'].dt.year\n",
    "dfmiss['week'] = dfmiss['date'].dt.week\n",
    "dfmiss['weekday'] = dfmiss['date'].dt.weekday\n",
    "dfmiss['quarter'] = dfmiss['date'].dt.quarter\n",
    "dfmiss['day_of_week'] = dfmiss['date'].dt.day_name()\n",
    "dfmiss['week_or_end'] = dfmiss['weekday'].apply(lambda x: 'weekend' if x >= 5 else 'week_day')\n",
    "dfmiss.head()"
   ]
  },
  {
   "cell_type": "markdown",
   "metadata": {},
   "source": [
    "We might want to represent the quarter variable as an object later on, so we will create a dictionary with the values we would like to change, and pass it to our Python's .map() method. A very useful fuction to map a function or set of values to a column or other data structure"
   ]
  },
  {
   "cell_type": "code",
   "execution_count": null,
   "metadata": {},
   "outputs": [],
   "source": [
    "mapping = {1:'first_Q',\n",
    "           2:'second_Q',\n",
    "           3:'third_Q',\n",
    "           4:'fourth_Q'}\n",
    "\n",
    "\n",
    "dfmiss['qtr_cate'] = dfmiss['quarter'].map(mapping)"
   ]
  },
  {
   "cell_type": "code",
   "execution_count": null,
   "metadata": {},
   "outputs": [],
   "source": [
    "#Save your dataset for later use\n",
    "df_ready = dfmiss.reset_index(drop=True).copy()\n",
    "df_ready.to_csv('weather_ready.csv', index=False)"
   ]
  },
  {
   "cell_type": "markdown",
   "metadata": {},
   "source": [
    "5.Visualisation"
   ]
  },
  {
   "cell_type": "code",
   "execution_count": null,
   "metadata": {},
   "outputs": [],
   "source": [
    "import pandas as pd\n",
    "import numpy as np\n",
    "import matplotlib.pyplot as plt\n",
    "plt.style.use('seaborn-white')\n",
    "\n",
    "%matplotlib inline"
   ]
  },
  {
   "cell_type": "code",
   "execution_count": null,
   "metadata": {},
   "outputs": [],
   "source": [
    "df = pd.read_csv('weather_ready.csv', parse_dates=['date'])\n",
    "df.head(3)"
   ]
  },
  {
   "cell_type": "markdown",
   "metadata": {},
   "source": [
    "That's a nice and informative plot as it tells us upon first inspection that our data is normally distributed "
   ]
  },
  {
   "cell_type": "code",
   "execution_count": null,
   "metadata": {},
   "outputs": [],
   "source": [
    "plt.hist(x=df['maxtemp'], color='green', bins=40, edgecolor='white')\n",
    "plt.title('Maximum Temperature - 2007-2017')"
   ]
  },
  {
   "cell_type": "code",
   "execution_count": null,
   "metadata": {},
   "outputs": [],
   "source": [
    "plt.hist(x=df['maxtemp'], color='red', bins=50, histtype='stepfilled', alpha=0.4)\n",
    "plt.hist(x=df['mintemp'], color='cyan', bins=50, histtype='stepfilled', alpha=0.5)\n",
    "plt.title('Maximum & Minimum Temperature - 2007-2017', fontdict={'fontsize': 15})\n",
    "plt.xlabel('Temperature Distribution in Celcius')\n",
    "plt.ylabel('Temperature Frequency in 10 Years')\n",
    "plt.show()"
   ]
  },
  {
   "cell_type": "code",
   "execution_count": null,
   "metadata": {},
   "outputs": [],
   "source": [
    "plt.scatter(x=df['rainfall'], y=df['temp3pm'], marker='.', color='red', alpha=0.7, s=1.5)\n",
    "plt.xlim(0, 250)\n",
    "plt.title('Relationship Between Rain and Temperature at 3 pm from 2007-2017', fontdict={'fontsize': 10})\n",
    "plt.xlabel('Rainfall')\n",
    "plt.ylabel('Temperature Frequency at 3 pm')\n"
   ]
  },
  {
   "cell_type": "markdown",
   "metadata": {},
   "source": [
    "A very useful way of visualising data is by aggregating it first."
   ]
  },
  {
   "cell_type": "code",
   "execution_count": null,
   "metadata": {},
   "outputs": [],
   "source": [
    "hum_by_year = df.pivot_table(\n",
    "    index='year',\n",
    "    values=['humidity9am', 'humidity3pm'],\n",
    "    aggfunc='mean'\n",
    ")\n",
    "hum_by_year"
   ]
  },
  {
   "cell_type": "code",
   "execution_count": null,
   "metadata": {},
   "outputs": [],
   "source": [
    "# Create the fig and ax objects\n",
    "fig, ax = plt.subplots()\n",
    "\n",
    "# add the 9am data and label to the ax object\n",
    "ax.plot(hum_by_year.index, hum_by_year['humidity9am'], label='Humidity 9am', marker='o')\n",
    "# add the 3pm data and label to the ax object\n",
    "ax.plot(hum_by_year.index, hum_by_year['humidity3pm'], label='Humidity 3pm', marker='v')\n",
    "\n",
    "ax.set_xlabel(\"Years\")\n",
    "ax.set_ylabel(\"Average Humidity\")\n",
    "\n",
    "# show the legend with labels\n",
    "plt.legend()\n",
    "# show the fig\n",
    "plt.show()"
   ]
  },
  {
   "cell_type": "markdown",
   "metadata": {},
   "source": [
    "show the distributions of our 4 temperature variables"
   ]
  },
  {
   "cell_type": "code",
   "execution_count": null,
   "metadata": {},
   "outputs": [],
   "source": [
    "# Create the fig and ax objects\n",
    "fig, ax = plt.subplots(2, 2, sharey=True, figsize=(10, 8))\n",
    "\n",
    "# add the 9am data and label to the ax object\n",
    "ax[0, 0].hist(df['mintemp'], bins=55, color='blue', alpha=0.5)\n",
    "ax[0, 1].hist(df['maxtemp'], bins=55, color='red', alpha=0.5)\n",
    "ax[1, 0].hist(df['temp9am'], bins=55, color='cyan', alpha=0.5)\n",
    "ax[1, 1].hist(df['temp3pm'], bins=55, color='green', alpha=0.5)\n",
    "\n",
    "\n",
    "# ax.set(title=\"Distributions of Temperatures between 2007-2017\")\n",
    "ax[0, 0].set_xlabel(\"Min Temperature\")\n",
    "ax[0, 1].set_xlabel(\"Max Temperature\")\n",
    "ax[1, 0].set_xlabel(\"Temp at 9am\")\n",
    "ax[1, 1].set_xlabel(\"Temp at 3pm\")\n",
    "ax[0, 0].set_ylabel(\"Frequency\")\n",
    "ax[1, 0].set_ylabel(\"Frequency\")\n",
    "\n",
    "fig.savefig('temp_plots.png')\n"
   ]
  },
  {
   "cell_type": "code",
   "execution_count": null,
   "metadata": {},
   "outputs": [],
   "source": [
    "import seaborn as sns\n",
    "import matplotlib.pyplot as plt\n",
    "%matplotlib inline"
   ]
  },
  {
   "cell_type": "code",
   "execution_count": null,
   "metadata": {},
   "outputs": [],
   "source": [
    "sns.countplot(x='windgustdir', data=df)\n",
    "plt.xticks(rotation=45)\n",
    "plt.title(\"Where does the wind come from most of the time?\")\n",
    "plt.show()"
   ]
  },
  {
   "cell_type": "code",
   "execution_count": null,
   "metadata": {},
   "outputs": [],
   "source": [
    "sns.countplot(x='raintoday', data=df[(df['location'] == 'Sydney') & (df['year'] == 2016)])\n",
    "plt.xlabel(\"Did it Rain Today?\")\n",
    "plt.title(\"Did it rain a lot in Sydney in 2016?\")\n",
    "plt.show()"
   ]
  },
  {
   "cell_type": "code",
   "execution_count": null,
   "metadata": {},
   "outputs": [],
   "source": [
    "df_2016 = df[df['year'] == 2016].copy()\n",
    "df_2016.shape\n",
    "sns.catplot(x='raintomorrow', data=df_2016, kind='count')\n",
    "plt.xlabel(\"Did it Rain Tomorrow?\")\n",
    "plt.title(\"Did it rain a lot in 2016?\")\n",
    "plt.show()"
   ]
  },
  {
   "cell_type": "code",
   "execution_count": null,
   "metadata": {},
   "outputs": [],
   "source": [
    "sns.catplot(x='day_of_week', y='rainfall', data=df_2016, kind='bar')\n",
    "plt.xlabel(\"Day of the Week\")\n",
    "plt.ylabel(\"Rain Fall (inches)\")\n",
    "plt.title(\"Amount of rain in inches and per day in 2016\")\n",
    "plt.show()"
   ]
  },
  {
   "cell_type": "code",
   "execution_count": null,
   "metadata": {},
   "outputs": [],
   "source": [
    "sns.catplot(x='day_of_week', y='maxtemp', data=df_2016, kind='box')\n",
    "plt.xlabel(\"Day of the Week\")\n",
    "plt.ylabel(\"Max Temp\")\n",
    "plt.title(\"Distribution of the Max Temp in the weekdays of 2016\")\n",
    "plt.show()"
   ]
  },
  {
   "cell_type": "code",
   "execution_count": null,
   "metadata": {},
   "outputs": [],
   "source": [
    "palette_colors = {'weekend': \"green\", 'week_day': \"blue\"}\n",
    "\n",
    "sns.countplot(x='raintoday', data=df[(df['location'] == 'Sydney') & (df['year'] == 2016)],\n",
    "              hue='week_or_end', palette=palette_colors)\n",
    "\n",
    "plt.title(\"Did it rain a lot in Sydney in 2016?\")\n",
    "\n",
    "plt.show()"
   ]
  },
  {
   "cell_type": "code",
   "execution_count": null,
   "metadata": {},
   "outputs": [],
   "source": [
    "sns.set_style('whitegrid')\n",
    "sns.scatterplot(x='maxtemp', y='rainfall', data=df)\n",
    "plt.title(\"Are rainy days correlated with high temperatures?\")\n",
    "plt.show()"
   ]
  },
  {
   "cell_type": "code",
   "execution_count": null,
   "metadata": {},
   "outputs": [],
   "source": [
    "sns.scatterplot(x='humidity9am', y='temp3pm', data=df.sample(frac=.05), hue='raintomorrow')\n",
    "plt.xlabel(\"Humidity at 9am\")\n",
    "plt.ylabel(\"Humidity at 3pm\")\n",
    "plt.title(\"If it is humid in the mornig will it be humid in the afternoon?\")\n",
    "plt.show()"
   ]
  },
  {
   "cell_type": "code",
   "execution_count": null,
   "metadata": {},
   "outputs": [],
   "source": [
    "\n",
    "sns.relplot(x='rainfall', \n",
    "            y='windspeed9am', \n",
    "            data=df_2016, \n",
    "            kind='scatter',\n",
    "            col='week_or_end')\n",
    "plt.show()"
   ]
  },
  {
   "cell_type": "code",
   "execution_count": null,
   "metadata": {},
   "outputs": [],
   "source": [
    "sns.relplot(x='rainfall', \n",
    "            y='windspeed9am', \n",
    "            data=df_2016, \n",
    "            kind='scatter',\n",
    "            col='week_or_end',\n",
    "            row='raintomorrow')\n",
    "plt.show()"
   ]
  },
  {
   "cell_type": "code",
   "execution_count": null,
   "metadata": {},
   "outputs": [],
   "source": [
    "df_2016_no_outliers = df_2016[df_2016['rainfall'] < 60]\n",
    "sns.relplot(x='rainfall', \n",
    "            y='maxtemp', \n",
    "            data=df_2016_no_outliers.sample(frac=0.2), \n",
    "            kind='scatter',\n",
    "            hue='weekday',\n",
    "            size='weekday')\n",
    "plt.show()"
   ]
  },
  {
   "cell_type": "code",
   "execution_count": null,
   "metadata": {},
   "outputs": [],
   "source": [
    "\n",
    "sns.relplot(x='month', y='rainfall', data=df_2016, kind='line')\n",
    "plt.xlabel('Months of 2016')\n",
    "plt.ylabel('Rain in inches')\n",
    "plt.title(\"Precipitation Monthly Trend in 2016\")\n",
    "plt.show()"
   ]
  },
  {
   "cell_type": "code",
   "execution_count": null,
   "metadata": {},
   "outputs": [],
   "source": [
    "\n",
    "sns.relplot(x='month', y='rainfall', data=df_2016, kind='line', style='week_or_end', hue='week_or_end', markers=True, ci=False)\n",
    "plt.xlabel('Months of 2016')\n",
    "plt.ylabel('Rain in inches')\n",
    "plt.title(\"Precipitation Monthly Trend by Week or W-End in 2016\")\n",
    "plt.savefig(\"more_trends\", dpi=350)\n",
    "plt.show()"
   ]
  },
  {
   "cell_type": "code",
   "execution_count": null,
   "metadata": {},
   "outputs": [],
   "source": [
    "from bokeh.io import output_file, show, output_notebook\n",
    "from bokeh.plotting import figure\n",
    "import matplotlib.pyplot as plt\n",
    "import pandas as pd\n",
    "output_notebook()\n",
    "\n",
    "%matplotlib inline\n",
    "plot.circle(df['rainfall'], df['mintemp'])\n",
    "output_file('circle.html')"
   ]
  },
  {
   "cell_type": "code",
   "execution_count": null,
   "metadata": {},
   "outputs": [],
   "source": [
    "p.circle(x=df['rainfall'], y=df['humidity9am'], size=4)\n",
    "show(p)"
   ]
  },
  {
   "cell_type": "code",
   "execution_count": null,
   "metadata": {},
   "outputs": [],
   "source": [
    "Color mapping\n",
    "from bokeh.models import CategoricalColorMapper\n",
    "# this tool allows us to map specific colors to specific categories within a variable\n",
    "mapper = CategoricalColorMapper(\n",
    "    factors=['first_Q', 'second_Q', 'third_Q', 'fourth_Q'],\n",
    "    palette=['bisque', 'rosybrown', 'chocolate', 'maroon']\n",
    ")\n",
    "\n",
    "# labels can be added within the figure parameter\n",
    "plot5 = figure(x_axis_label='rainfall',\n",
    "              y_axis_label='mintemp'\n",
    "              )\n",
    "\n",
    "plot5.circle('rainfall', 'mintemp',\n",
    "            size=7, source=df,\n",
    "            color={'field':'qtr_cate', # pass in the color as a dictionary and specify the field first, e.g. our qrt_cate variable\n",
    "                  'transform': mapper}, # assign the colors with transform param\n",
    "            legend='qtr_cate' # add your legend for the categories\n",
    "           )\n",
    "\n",
    "# move the legend to a convenient spot\n",
    "plot5.legend.location = 'top_right'\n"
   ]
  },
  {
   "cell_type": "code",
   "execution_count": null,
   "metadata": {},
   "outputs": [],
   "source": []
  }
 ],
 "metadata": {
  "kernelspec": {
   "display_name": "Python 3",
   "language": "python",
   "name": "python3"
  },
  "language_info": {
   "codemirror_mode": {
    "name": "ipython",
    "version": 3
   },
   "file_extension": ".py",
   "mimetype": "text/x-python",
   "name": "python",
   "nbconvert_exporter": "python",
   "pygments_lexer": "ipython3",
   "version": "3.7.6"
  }
 },
 "nbformat": 4,
 "nbformat_minor": 4
}
